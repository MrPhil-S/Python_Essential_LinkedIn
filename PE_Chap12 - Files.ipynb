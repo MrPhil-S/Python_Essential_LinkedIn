{
 "cells": [
  {
   "cell_type": "code",
   "execution_count": 5,
   "metadata": {},
   "outputs": [
    {
     "name": "stdout",
     "output_type": "stream",
     "text": [
      "01 The first line.\n",
      "02 The second line.\n",
      "03 The third line.\n",
      "04 The fourth line.\n",
      "05 The fifth line.\n",
      "06 The sixth line.\n",
      "07 The seventh line.\n",
      "08 The eight line.\n",
      "09 The ninth line.\n",
      "10 The tenth line.\n"
     ]
    }
   ],
   "source": [
    "#files.py\n",
    "#def main():\n",
    "filepath = 'C:\\projects\\PythonEssential\\Ex_Files_Python_EssT\\Exercise Files\\Chap12\\lines.txt'\n",
    "f = open(filepath)\n",
    "for line in f:\n",
    "    #The above ^: \"open\" opens a file object (in readonly mode) that can be iterated over\n",
    "    #using for loop, can get 1 line at a time, without buffering the entire file\n",
    "    #strip the newline at end of ea line\n",
    "    print(line.rstrip())\n",
    "#if __name__ == '__main__': main()"
   ]
  },
  {
   "cell_type": "markdown",
   "metadata": {},
   "source": [
    "Can use \"open\" arguments:\n",
    "'r'\topen for reading (default)\n",
    "\n",
    "'w'\topen for writing, truncating the file first\n",
    "\n",
    "'x'\tcreate a new file and open it for writing\n",
    "\n",
    "'a'\topen for writing, appending to the end of the file if it exists\n",
    "\n",
    "'b'\tbinary mode\n",
    "\n",
    "'t'\ttext mode (default)\n",
    "\n",
    "'+'\topen a disk file for updating (reading and writing)\n",
    "\n",
    "'U'\tuniversal newline mode (deprecated)"
   ]
  },
  {
   "cell_type": "code",
   "execution_count": 45,
   "metadata": {},
   "outputs": [
    {
     "ename": "UnsupportedOperation",
     "evalue": "not readable",
     "output_type": "error",
     "traceback": [
      "\u001b[1;31m---------------------------------------------------------------------------\u001b[0m",
      "\u001b[1;31mUnsupportedOperation\u001b[0m                      Traceback (most recent call last)",
      "\u001b[1;32m<ipython-input-45-8710bf8054db>\u001b[0m in \u001b[0;36m<module>\u001b[1;34m\u001b[0m\n\u001b[0;32m      1\u001b[0m \u001b[0mf\u001b[0m \u001b[1;33m=\u001b[0m \u001b[0mopen\u001b[0m\u001b[1;33m(\u001b[0m\u001b[1;34m'atestfile.txt'\u001b[0m\u001b[1;33m,\u001b[0m \u001b[1;34m'w'\u001b[0m\u001b[1;33m)\u001b[0m\u001b[1;33m\u001b[0m\u001b[1;33m\u001b[0m\u001b[0m\n\u001b[1;32m----> 2\u001b[1;33m \u001b[1;32mfor\u001b[0m \u001b[0mline\u001b[0m \u001b[1;32min\u001b[0m \u001b[0mf\u001b[0m\u001b[1;33m:\u001b[0m\u001b[1;33m\u001b[0m\u001b[1;33m\u001b[0m\u001b[0m\n\u001b[0m\u001b[0;32m      3\u001b[0m     \u001b[0mprint\u001b[0m\u001b[1;33m(\u001b[0m\u001b[0mline\u001b[0m\u001b[1;33m.\u001b[0m\u001b[0mrstrip\u001b[0m\u001b[1;33m(\u001b[0m\u001b[1;33m)\u001b[0m\u001b[1;33m)\u001b[0m\u001b[1;33m\u001b[0m\u001b[1;33m\u001b[0m\u001b[0m\n",
      "\u001b[1;31mUnsupportedOperation\u001b[0m: not readable"
     ]
    }
   ],
   "source": [
    "f = open('atestfile.txt', 'w')\n",
    "for line in f:\n",
    "    print(line.rstrip())"
   ]
  },
  {
   "cell_type": "markdown",
   "metadata": {},
   "source": []
  },
  {
   "cell_type": "code",
   "execution_count": 12,
   "metadata": {},
   "outputs": [
    {
     "name": "stdout",
     "output_type": "stream",
     "text": [
      "..........\n",
      "done.\n"
     ]
    }
   ],
   "source": [
    "#copy-lines.py\n",
    "def main():\n",
    "    infile = open('lines.txt', 'rt')\n",
    "    outfile = open('lines-copy.txt', 'wt')\n",
    "    for line in infile:\n",
    "        #strip line endings, refers to the filename aboce\n",
    "        #>>>print(line.rstrip(), file=outfile)\n",
    "        #or\n",
    "        outfile.writelines(line)\n",
    "        #\"end=''prevents new line, flush output buffer\"\n",
    "        print('.', end='', flush=True)\n",
    "    outfile.close()\n",
    "    infile.close()  #<<<not necessary, it will be closed when code exits the main function\n",
    "    print('\\ndone.')\n",
    " \n",
    "if __name__ == '__main__': main()\n"
   ]
  }
 ],
 "metadata": {
  "interpreter": {
   "hash": "eabb86107e590cff15b9e52f18202900a39f367bd87c739e30f1c47d4db03be8"
  },
  "kernelspec": {
   "display_name": "Python 3.8.3 ('base')",
   "language": "python",
   "name": "python3"
  },
  "language_info": {
   "codemirror_mode": {
    "name": "ipython",
    "version": 3
   },
   "file_extension": ".py",
   "mimetype": "text/x-python",
   "name": "python",
   "nbconvert_exporter": "python",
   "pygments_lexer": "ipython3",
   "version": "3.8.3"
  },
  "orig_nbformat": 4
 },
 "nbformat": 4,
 "nbformat_minor": 2
}
