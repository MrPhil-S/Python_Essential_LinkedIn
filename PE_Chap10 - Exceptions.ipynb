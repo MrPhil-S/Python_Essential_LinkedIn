{
 "cells": [
  {
   "cell_type": "code",
   "execution_count": 4,
   "metadata": {},
   "outputs": [
    {
     "name": "stdout",
     "output_type": "stream",
     "text": [
      "a value error occured\n"
     ]
    }
   ],
   "source": [
    "\n",
    "def main():\n",
    "    try:\n",
    "        x = int('test')\n",
    "    except ValueError:\n",
    "        print('a value error occured')\n",
    "        #or do something else\n",
    "\n",
    "if __name__ == '__main__': main()\n"
   ]
  },
  {
   "cell_type": "markdown",
   "metadata": {},
   "source": [
    "Catch specific error types:"
   ]
  },
  {
   "cell_type": "code",
   "execution_count": 15,
   "metadata": {},
   "outputs": [
    {
     "name": "stdout",
     "output_type": "stream",
     "text": [
      "good job, the value was 5.0\n"
     ]
    }
   ],
   "source": [
    "def main():\n",
    "    try:\n",
    "     #   x = int('test')\n",
    "        y = 5/1\n",
    "    except ValueError:\n",
    "        print('x had a value error')\n",
    "    except ZeroDivisionError:\n",
    "        print('don\\'t divide by zero')\n",
    "        #or do something else\n",
    "    else:\n",
    "        print(f'good job, the value was {y}')\n",
    "    \n",
    "\n",
    "if __name__ == '__main__': main()"
   ]
  },
  {
   "cell_type": "markdown",
   "metadata": {},
   "source": [
    "Catch all error types, get details"
   ]
  },
  {
   "cell_type": "code",
   "execution_count": 24,
   "metadata": {},
   "outputs": [
    {
     "name": "stdout",
     "output_type": "stream",
     "text": [
      "Unknown error: (<class 'NameError'>, NameError(\"name 's' is not defined\"), <traceback object at 0x0000029DBE95E340>)\n",
      "\n",
      "Unknown error: name 's' is not defined\n"
     ]
    }
   ],
   "source": [
    "import sys\n",
    "\n",
    "def main():\n",
    "    try:\n",
    "     #   x = int('test')\n",
    "        y = s\n",
    "    except ValueError:\n",
    "        print('x had a value error')\n",
    "    except ZeroDivisionError:\n",
    "        print('don\\'t divide by zero')\n",
    "        #or do something else\n",
    "    except:\n",
    "        print(f'Unknown error: {sys.exc_info()}')\n",
    "        print()\n",
    "        print(f'Unknown error: {sys.exc_info()[1]}')\n",
    "    else:\n",
    "        print(f'good job, the value was {y}')\n",
    "    \n",
    "\n",
    "if __name__ == '__main__': main()"
   ]
  },
  {
   "cell_type": "code",
   "execution_count": 29,
   "metadata": {},
   "outputs": [
    {
     "name": "stdout",
     "output_type": "stream",
     "text": [
      "{'Range error: expected at most 3 arguments, got 5'}\n"
     ]
    }
   ],
   "source": [
    "#exceptions.py\n",
    "\n",
    "def inclusive_range(*args):\n",
    "    numargs = len(args)\n",
    "    start = 0\n",
    "    step = 1\n",
    "    \n",
    "    # initialize parameters\n",
    "    if numargs < 1:\n",
    "        raise TypeError(f'expected at least 1 argument, got {numargs}')\n",
    "    elif numargs == 1:\n",
    "        stop = args[0]\n",
    "    elif numargs == 2:\n",
    "        (start, stop) = args\n",
    "    elif numargs == 3:\n",
    "        (start, stop, step) = args\n",
    "    else: raise TypeError(f'expected at most 3 arguments, got {numargs}')\n",
    "\n",
    "    # generator\n",
    "    i = start\n",
    "    while i <= stop:\n",
    "        yield i\n",
    "        i += step\n",
    "\n",
    "def main():\n",
    "    #error catching here:\n",
    "    try:\n",
    "        for i in inclusive_range(25,1,1,1,11):\n",
    "            print(i, end = ' ', flush = True)\n",
    "        print()\n",
    "    except TypeError as e:\n",
    "        print({f'Range error: {e}'})    \n",
    "\n",
    "if __name__ == '__main__': main()\n"
   ]
  },
  {
   "cell_type": "markdown",
   "metadata": {},
   "source": [
    "Reporting errors with the raise argument statement"
   ]
  },
  {
   "cell_type": "code",
   "execution_count": null,
   "metadata": {},
   "outputs": [],
   "source": [
    "#exceptions.py\n",
    "\n",
    "def inclusive_range(*args):\n",
    "    numargs = len(args)\n",
    "    start = 0\n",
    "    step = 1\n",
    "    \n",
    "    # initialize parameters\n",
    "    if numargs < 1:\n",
    "        raise TypeError(f'expected at least 1 argument, got {numargs}')\n",
    "    elif numargs == 1:\n",
    "        stop = args[0]\n",
    "    elif numargs == 2:\n",
    "        (start, stop) = args\n",
    "    elif numargs == 3:\n",
    "        (start, stop, step) = args\n",
    "    else: raise TypeError(f'expected at most 3 arguments, got {numargs}')\n",
    "\n",
    "    # generator\n",
    "    i = start\n",
    "    while i <= stop:\n",
    "        yield i\n",
    "        i += step\n",
    "\n",
    "def main():\n",
    "    for i in inclusive_range(25):\n",
    "        print(i, end = ' ', flush = True)\n",
    "    print()\n",
    "\n",
    "if __name__ == '__main__': main()\n"
   ]
  }
 ],
 "metadata": {
  "interpreter": {
   "hash": "eabb86107e590cff15b9e52f18202900a39f367bd87c739e30f1c47d4db03be8"
  },
  "kernelspec": {
   "display_name": "Python 3.8.3 ('base')",
   "language": "python",
   "name": "python3"
  },
  "language_info": {
   "codemirror_mode": {
    "name": "ipython",
    "version": 3
   },
   "file_extension": ".py",
   "mimetype": "text/x-python",
   "name": "python",
   "nbconvert_exporter": "python",
   "pygments_lexer": "ipython3",
   "version": "3.8.3"
  },
  "orig_nbformat": 4
 },
 "nbformat": 4,
 "nbformat_minor": 2
}
