{
 "cells": [
  {
   "cell_type": "markdown",
   "metadata": {},
   "source": [
    "List []"
   ]
  },
  {
   "cell_type": "code",
   "execution_count": 11,
   "metadata": {},
   "outputs": [
    {
     "name": "stdout",
     "output_type": "stream",
     "text": [
      "Rock Paper Scissors Lizard Spock \n",
      "Paper\n"
     ]
    }
   ],
   "source": [
    "def main():\n",
    "    game = [ 'Rock', 'Paper', 'Scissors', 'Lizard', 'Spock' ]\n",
    "    print_list(game)\n",
    "  #Search a list: \n",
    "    i = game.index('Paper')\n",
    "    print(game[i])\n",
    "\n",
    "def print_list(o):\n",
    "    for i in o: print(i, end=' ', flush=True)\n",
    "    print()\n",
    "\n",
    "if __name__ == '__main__': main()\n"
   ]
  },
  {
   "cell_type": "code",
   "execution_count": null,
   "metadata": {},
   "outputs": [],
   "source": [
    "#dictionary\n",
    "def main():\n",
    "    animals = { 'kitten': 'meow', 'puppy': 'ruff!', 'lion': 'grrr',\n",
    "        'giraffe': 'I am a giraffe!', 'dragon': 'rawr' }\n",
    "    print_dict(animals)\n",
    "\n",
    "#print k v on own line\n",
    "def print_dict(o):\n",
    "    for x in o: print(f'{x}: {o[x]}')\n",
    "\n",
    "if __name__ == '__main__': main()\n"
   ]
  },
  {
   "cell_type": "markdown",
   "metadata": {},
   "source": [
    "Create a dictionary using a dictionary constructor and keywork arguments. "
   ]
  },
  {
   "cell_type": "code",
   "execution_count": 21,
   "metadata": {},
   "outputs": [
    {
     "name": "stdout",
     "output_type": "stream",
     "text": [
      "kitten: meow\n",
      "puppy: woof\n",
      "lion: grr\n",
      "kitten: meow\n",
      "puppy: woof\n",
      "lion: grr\n"
     ]
    }
   ],
   "source": [
    "#dictionary\n",
    "def main():\n",
    "    animals = dict(kitten = 'meow', puppy = 'woof', lion = 'grr')\n",
    "    for k, v in animals.items():\n",
    "        print(f'{k}: {v}')\n",
    "    print_dict(animals)\n",
    "\n",
    "#print k v on own line\n",
    "def print_dict(o):\n",
    "    for x in o: print(f'{x}: {o[x]}')\n",
    "\n",
    "if __name__ == '__main__': main()\n"
   ]
  },
  {
   "cell_type": "markdown",
   "metadata": {},
   "source": [
    "Can move print(f'{k}: {v} down to the print_dict method"
   ]
  },
  {
   "cell_type": "code",
   "execution_count": 22,
   "metadata": {},
   "outputs": [
    {
     "name": "stdout",
     "output_type": "stream",
     "text": [
      "kitten: meow\n",
      "puppy: woof\n",
      "lion: grr\n"
     ]
    }
   ],
   "source": [
    "def main():\n",
    "    animals = dict(kitten = 'meow', puppy = 'woof', lion = 'grr')\n",
    "    print_dict(animals)\n",
    "\n",
    "#print k v on own line\n",
    "def print_dict(o):\n",
    "    ##for x in o: print(f'{x}: {o[x]}')\n",
    "    for k, v in o.items(): print(f'{k}: {v}')\n",
    "\n",
    "\n",
    "if __name__ == '__main__': main()\n"
   ]
  },
  {
   "cell_type": "markdown",
   "metadata": {},
   "source": [
    "The keys method - returns the keys\n",
    "Values can also be returned"
   ]
  },
  {
   "cell_type": "code",
   "execution_count": 29,
   "metadata": {},
   "outputs": [
    {
     "name": "stdout",
     "output_type": "stream",
     "text": [
      "kitten\n",
      "puppy\n",
      "lion\n",
      "meow\n",
      "woof\n",
      "grr\n"
     ]
    }
   ],
   "source": [
    "def main():\n",
    "    animals = dict(kitten = 'meow', puppy = 'woof', lion = 'grr')\n",
    "    for k in animals.keys(): print(k)\n",
    "    for v in animals.values(): print(v)\n",
    "    #print_dict(animals)\n",
    "\n",
    "#def print_dict(o):\n",
    "    ##for x in o: print(f'{x}: {o[x]}')\n",
    " #   for k, v in o.items(): print(f'{k}: {v}')\n",
    "\n",
    "\n",
    "if __name__ == '__main__': main()\n"
   ]
  },
  {
   "cell_type": "markdown",
   "metadata": {},
   "source": [
    "interacting with values.  "
   ]
  },
  {
   "cell_type": "code",
   "execution_count": 33,
   "metadata": {},
   "outputs": [
    {
     "name": "stdout",
     "output_type": "stream",
     "text": [
      "woof\n",
      "kitten: grr\n",
      "puppy: I am a puppy\n",
      "lion: grr\n",
      "wolf: oooooo\n"
     ]
    }
   ],
   "source": [
    "def main():\n",
    "    animals = dict(kitten = 'meow', puppy = 'woof', lion = 'grr')\n",
    "    \n",
    "    #provide the key and get the value\n",
    "    print(animals['puppy'])\n",
    "\n",
    "    #can reassign value\n",
    "    animals['puppy'] = 'I am a puppy'\n",
    "    animals['kitten'] = animals['lion']\n",
    "\n",
    "    #add an item\n",
    "    animals['wolf'] = 'oooooo'\n",
    "\n",
    "    print_dict(animals)\n",
    "\n",
    "\n",
    "#print k v on own line\n",
    "def print_dict(o):\n",
    "    ##for x in o: print(f'{x}: {o[x]}')\n",
    "    for k, v in o.items(): print(f'{k}: {v}')\n",
    "\n",
    "\n",
    "if __name__ == '__main__': main()\n"
   ]
  },
  {
   "cell_type": "markdown",
   "metadata": {},
   "source": [
    "Search in dictionay with \"in\""
   ]
  },
  {
   "cell_type": "code",
   "execution_count": 37,
   "metadata": {},
   "outputs": [
    {
     "name": "stdout",
     "output_type": "stream",
     "text": [
      "True\n",
      "nope!\n"
     ]
    }
   ],
   "source": [
    "def main():\n",
    "    animals = dict(kitten = 'meow', puppy = 'woof', lion = 'grr')\n",
    "    \n",
    "    print('lion' in animals)\n",
    "    print('FOUND!!' if 'tiger' in animals else 'nope!')\n",
    "\n",
    "\n",
    "\n",
    "if __name__ == '__main__': main()\n"
   ]
  },
  {
   "cell_type": "markdown",
   "metadata": {},
   "source": [
    "Use the \"get\" method if we dont know if the key exists"
   ]
  },
  {
   "cell_type": "code",
   "execution_count": 39,
   "metadata": {},
   "outputs": [
    {
     "name": "stdout",
     "output_type": "stream",
     "text": [
      "meow\n",
      "None\n"
     ]
    }
   ],
   "source": [
    "def main():\n",
    "    animals = dict(kitten = 'meow', puppy = 'woof', lion = 'grr')\n",
    "    \n",
    "    print(animals.get('kitten'))\n",
    "    print(animals.get('godzilla'))\n",
    "\n",
    "\n",
    "if __name__ == '__main__': main()\n"
   ]
  },
  {
   "cell_type": "markdown",
   "metadata": {},
   "source": [
    "Sets - unordered of unique characters\n",
    "Otten used to check for membership"
   ]
  },
  {
   "cell_type": "code",
   "execution_count": 41,
   "metadata": {},
   "outputs": [
    {
     "name": "stdout",
     "output_type": "stream",
     "text": [
      "{r egd.an'obitW}\n",
      "{eIh'otcd.vamf,Ds ryni}\n",
      "{ '.Wabdeginort}\n",
      "{eIh'otcd.vamf,Ds ryni}\n"
     ]
    }
   ],
   "source": [
    "def main():\n",
    "    a = set(\"We're gonna need a bigger boat.\")\n",
    "    b = set(\"I'm sorry, Dave. I'm afraid I can't do that.\")\n",
    "    print_set(a)\n",
    "    print_set(b)\n",
    "    print_set(sorted(a))\n",
    "    print_set(sorted(b))\n",
    "\n",
    "def print_set(o):\n",
    "    print('{', end = '')\n",
    "    for x in o: print(x, end = '')\n",
    "    print('}')\n",
    "\n",
    "if __name__ == '__main__': main()\n"
   ]
  },
  {
   "cell_type": "markdown",
   "metadata": {},
   "source": [
    "Check membership"
   ]
  },
  {
   "cell_type": "code",
   "execution_count": 44,
   "metadata": {},
   "outputs": [
    {
     "name": "stdout",
     "output_type": "stream",
     "text": [
      "{gbW}\n",
      "{eIh'otWcgd.vamf,Dbsr yni}\n",
      "{IhbsWcgvymf,D}\n",
      "{r ed.an'oit}\n"
     ]
    }
   ],
   "source": [
    "def main():\n",
    "    a = set(\"We're gonna need a bigger boat.\")\n",
    "    b = set(\"I'm sorry, Dave. I'm afraid I can't do that.\")\n",
    "    \n",
    "    #check for a that are not in b\n",
    "    print_set(a - b)\n",
    "\n",
    "    #check for all values that are one or both \n",
    "    print_set(a | b)\n",
    "\n",
    "    #Exclusive or: a or b but not both \n",
    "    print_set(a ^ b)\n",
    "\n",
    "    #only members that are in both \n",
    "    print_set(a & b)\n",
    "\n",
    "def print_set(o):\n",
    "    print('{', end = '')\n",
    "    for x in o: print(x, end = '')\n",
    "    print('}')\n",
    "\n",
    "if __name__ == '__main__': main()\n"
   ]
  },
  {
   "cell_type": "markdown",
   "metadata": {},
   "source": [
    "List comprehension"
   ]
  },
  {
   "cell_type": "code",
   "execution_count": 49,
   "metadata": {},
   "outputs": [
    {
     "name": "stdout",
     "output_type": "stream",
     "text": [
      "0 1 2 3 4 5 6 7 8 9 10 \n",
      "0 2 4 6 8 10 12 14 16 18 20 \n",
      "(0, 0) (1, 1) (2, 4) (3, 9) (4, 16) (5, 25) (6, 36) (7, 49) (8, 64) (9, 81) (10, 100) \n",
      "{0: 0, 1: 1, 2: 4, 3: 9, 4: 16, 5: 25, 6: 36, 7: 49, 8: 64, 9: 81, 10: 100}\n"
     ]
    }
   ],
   "source": [
    "def main():\n",
    "    #normal list\n",
    "    seq = range(11)\n",
    "    print_list(seq)\n",
    "\n",
    "    #list conprehension\n",
    "    #example - multiply ea value in the list from seq by 2\n",
    "    seq2 = [x * 2 for x in seq]\n",
    "    print_list(seq2)\n",
    "   \n",
    "    #print a list of tuples\n",
    "    seq3 = [(x, x**2) for x in seq]\n",
    "    print_list(seq3)\n",
    "   \n",
    "   #create a dictionary from list    \n",
    "    seq4 = { x: x**2 for x in seq}\n",
    "    print(seq4)\n",
    "\n",
    "\n",
    "def print_list(o):\n",
    "    for x in o: print(x, end = ' ')\n",
    "    print()\n",
    "\n",
    "if __name__ == '__main__': main()\n"
   ]
  },
  {
   "cell_type": "code",
   "execution_count": 50,
   "metadata": {},
   "outputs": [
    {
     "name": "stdout",
     "output_type": "stream",
     "text": [
      "{'e', 's', 'r', 'u'}\n"
     ]
    }
   ],
   "source": [
    "word = {x for x in 'superduper' if x not in 'pd'}\n",
    "print(word)"
   ]
  },
  {
   "cell_type": "markdown",
   "metadata": {},
   "source": [
    "Mixed structers"
   ]
  },
  {
   "cell_type": "code",
   "execution_count": 51,
   "metadata": {},
   "outputs": [
    {
     "name": "stdout",
     "output_type": "stream",
     "text": [
      "[ [ 1 'two' 3 { 4: 'four' } 5 ] \n",
      "[ 0 1 2 3 4 5 6 7 8 9 10 ] \n",
      "{ ' ' '!' \"'\" 'I' 'S' 'a' 'b' 'd' 'e' 'i' 'l' 'm' 'n' 'p' 'r' 's' 't' 'u' } \n",
      "{ one: [ 0 1 2 3 4 5 6 7 8 9 10 ] two: [ 1 'two' 3 { 4: 'four' } 5 ] three: { ' ' '!' \"'\" 'I' 'S' 'a' 'b' 'd' 'e' 'i' 'l' 'm' 'n' 'p' 'r' 's' 't' 'u' } } \n",
      "( 'one' 'two' Nada 'four' 'five' ) \n",
      "] \n"
     ]
    }
   ],
   "source": [
    "#Chap 8 - Mixid\n",
    "dlevel = 0 # manage nesting level\n",
    "\n",
    "def main():\n",
    "    r = range(11)\n",
    "    l = [ 1, 'two', 3, {'4': 'four' }, 5 ]\n",
    "    t = ( 'one', 'two', None, 'four', 'five' )\n",
    "    s = set(\"It's a bird! It's a plane! It's Superman!\")\n",
    "    d = dict( one = r, two = l, three = s )\n",
    "    mixed = [ l, r, s, d, t ]\n",
    "    disp(mixed)\n",
    "\n",
    "def disp(o):\n",
    "    global dlevel\n",
    "\n",
    "    dlevel += 1\n",
    "    if   isinstance(o, list):  print_list(o)\n",
    "    elif isinstance(o, range): print_list(o)\n",
    "    elif isinstance(o, tuple): print_tuple(o)\n",
    "    elif isinstance(o, set):   print_set(o)\n",
    "    elif isinstance(o, dict):  print_dict(o)\n",
    "    elif o is None: print('Nada', end=' ', flush=True)\n",
    "    else: print(repr(o), end=' ', flush=True)\n",
    "    dlevel -= 1\n",
    "\n",
    "    if dlevel <= 1: print() # newline after outer\n",
    "\n",
    "def print_list(o):\n",
    "    print('[', end=' ')\n",
    "    for x in o: disp(x)\n",
    "    print(']', end=' ', flush=True)\n",
    "\n",
    "def print_tuple(o):\n",
    "    print('(', end=' ')\n",
    "    for x in o: disp(x)\n",
    "    print(')', end=' ', flush=True)\n",
    "\n",
    "def print_set(o):\n",
    "    print('{', end=' ')\n",
    "    for x in sorted(o): disp(x)\n",
    "    print('}', end=' ', flush=True)\n",
    "\n",
    "def print_dict(o):\n",
    "    print('{', end=' ')\n",
    "    for k, v in o.items():\n",
    "        print(k, end=': ' )\n",
    "        disp(v)\n",
    "    print('}', end=' ', flush=True)\n",
    "\n",
    "if __name__ == '__main__': main()\n"
   ]
  },
  {
   "cell_type": "code",
   "execution_count": null,
   "metadata": {},
   "outputs": [],
   "source": []
  }
 ],
 "metadata": {
  "interpreter": {
   "hash": "eabb86107e590cff15b9e52f18202900a39f367bd87c739e30f1c47d4db03be8"
  },
  "kernelspec": {
   "display_name": "Python 3.8.3 ('base')",
   "language": "python",
   "name": "python3"
  },
  "language_info": {
   "codemirror_mode": {
    "name": "ipython",
    "version": 3
   },
   "file_extension": ".py",
   "mimetype": "text/x-python",
   "name": "python",
   "nbconvert_exporter": "python",
   "pygments_lexer": "ipython3",
   "version": "3.8.3"
  },
  "orig_nbformat": 4
 },
 "nbformat": 4,
 "nbformat_minor": 2
}
