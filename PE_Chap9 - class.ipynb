{
 "cells": [
  {
   "cell_type": "markdown",
   "metadata": {},
   "source": [
    "A class is the basis of all data in Python, everything is an object in Python, and a class is how an object is defined. H"
   ]
  },
  {
   "cell_type": "code",
   "execution_count": 5,
   "metadata": {},
   "outputs": [
    {
     "name": "stdout",
     "output_type": "stream",
     "text": [
      "Quack quack.\n",
      "Walks like a duck.\n",
      "Quack quack.\n"
     ]
    }
   ],
   "source": [
    "#class\n",
    "class Duck:\n",
    "    #Data\n",
    "    sound = 'Quack quack.'\n",
    "    movement = 'Walks like a duck.'\n",
    "\n",
    "    #methods/function definitions\n",
    "    def quack(self):   #traditionally \"self\" is the first argument\n",
    "        print(self.sound)\n",
    "\n",
    "    def move(self):\n",
    "        print(self.movement)\n",
    "\n",
    "def main():\n",
    "    donald = Duck() #define a variable from class, Duck\n",
    "    donald.quack() #invoke the object method \"quack\" on the object, donald\n",
    "    donald.move()\n",
    "    #could do this, but not recommended:\n",
    "    print(donald.sound)\n",
    "\n",
    "if __name__ == '__main__': main()\n"
   ]
  },
  {
   "cell_type": "code",
   "execution_count": 6,
   "metadata": {},
   "outputs": [
    {
     "name": "stdout",
     "output_type": "stream",
     "text": [
      "The kitten is named \"fluffy\" and says \"rwar\".\n",
      "The duck is named \"donald\" and says \"quack\".\n",
      "The velociraptor is named \"veronica\" and says \"hello\".\n"
     ]
    }
   ],
   "source": [
    "#constuctor\n",
    "\n",
    "class Animal:\n",
    "    #The \"self\" is an indicator that this is a method\n",
    "    def __init__(self, type, name, sound):\n",
    "        self._type = type\n",
    "        self._name = name\n",
    "        self._sound = sound\n",
    "    #accessors:\n",
    "    def type(self):\n",
    "        return self._type\n",
    "\n",
    "    def name(self):\n",
    "        return self._name\n",
    "\n",
    "    def sound(self):\n",
    "        return self._sound\n",
    "\n",
    "def print_animal(o):\n",
    "    if not isinstance(o, Animal):\n",
    "        raise TypeError('print_animal(): requires an Animal')\n",
    "    print('The {} is named \"{}\" and says \"{}\".'.format(o.type(), o.name(), o.sound()))\n",
    "\n",
    "\n",
    "def main():    #type       name      sound\n",
    "    a0 = Animal('kitten', 'fluffy', 'rwar')\n",
    "    a1 = Animal('duck', 'donald', 'quack')\n",
    "    print_animal(a0)\n",
    "    print_animal(a1)\n",
    "    print_animal(Animal('velociraptor', 'veronica', 'hello'))\n",
    "\n",
    "if __name__ == '__main__': main()\n"
   ]
  },
  {
   "cell_type": "markdown",
   "metadata": {},
   "source": [
    "Class methods\n",
    "\n",
    "A function that is associated with a class is called a method. This provides the interface to the class and its objects. "
   ]
  },
  {
   "cell_type": "code",
   "execution_count": 14,
   "metadata": {},
   "outputs": [
    {
     "name": "stdout",
     "output_type": "stream",
     "text": [
      "The kitten is named \"fluffy\" and says \"bark\".\n",
      "The duck is named \"donald\" and says \"quack\".\n"
     ]
    }
   ],
   "source": [
    "#!/usr/bin/env python3\n",
    "# Copyright 2009-2017 BHG http://bw.org/\n",
    "\n",
    "class Animal:\n",
    "    def __init__(self, **kwargs):\n",
    "        self._type = kwargs['type'] if 'type' in kwargs else 'kitten'\n",
    "        self._name = kwargs['name'] if 'name' in kwargs else 'fluffy'\n",
    "        self._sound = kwargs['sound'] if 'sound' in kwargs else 'meow'\n",
    "\n",
    "    #the first argument is \"self\" - this is what makes is a method and not just a plain function\n",
    "    # the leading _ in the variables indicates it is a private variable, only to be used within that method \n",
    "    #set or get (setter getter)\n",
    "    def type(self, t = None):\n",
    "        if t: self._type = t\n",
    "        return self._type\n",
    "\n",
    "    def name(self, n = None):\n",
    "        if n: self._name = n\n",
    "        return self._name\n",
    "\n",
    "    def sound(self, s = None):\n",
    "        if s: self._sound = s\n",
    "        return self._sound\n",
    "\n",
    "    #__str__ - special method that provides the string represention of the object\n",
    "    def __str__(self):\n",
    "        return f'The {self.type()} is named \"{self.name()}\" and says \"{self.sound()}\".'\n",
    "\n",
    "def main():\n",
    "    a0 = Animal(type = 'kitten', name = 'fluffy', sound = 'rwar')\n",
    "    a1 = Animal(type = 'duck', name = 'donald', sound = 'quack')\n",
    "    #change the sound\n",
    "    a0.sound('bark')\n",
    "    print(a0)\n",
    "    print(a1)\n",
    "\n",
    "if __name__ == '__main__': main()\n"
   ]
  },
  {
   "cell_type": "markdown",
   "metadata": {},
   "source": []
  },
  {
   "cell_type": "markdown",
   "metadata": {},
   "source": [
    "Object data\n",
    "\n",
    "Data may be associated with a class or an object and it's important to understand the distinction."
   ]
  },
  {
   "cell_type": "code",
   "execution_count": 16,
   "metadata": {},
   "outputs": [
    {
     "name": "stdout",
     "output_type": "stream",
     "text": [
      "The kitten is named \"fluffy\" and says \"rwar\".\n",
      "The duck is named \"donald\" and says \"quack\".\n",
      "[1, 2, 3]\n",
      "[7, 2, 3]\n"
     ]
    }
   ],
   "source": [
    "#variables.py\n",
    "class Animal:\n",
    "    #constructor\n",
    "    #Three object variables: type, name, sound\n",
    "    x = [1,2,3]\n",
    "    def __init__(self, **kwargs):\n",
    "        self._type = kwargs['type'] if 'type' in kwargs else 'kitten'\n",
    "        self._name = kwargs['name'] if 'name' in kwargs else 'fluffy'\n",
    "        self._sound = kwargs['sound'] if 'sound' in kwargs else 'meow'\n",
    "    \n",
    "    def type(self, t = None):\n",
    "        if t: self._type = t\n",
    "        return self._type\n",
    "\n",
    "    def name(self, n = None):\n",
    "        if n: self._name = n\n",
    "        return self._name\n",
    "\n",
    "    def sound(self, s = None):\n",
    "        if s: self._sound = s\n",
    "        return self._sound\n",
    "\n",
    "    def __str__(self):\n",
    "        return f'The {self.type()} is named \"{self.name()}\" and says \"{self.sound()}\".'\n",
    "\n",
    "def main():\n",
    "    a0 = Animal(type = 'kitten', name = 'fluffy', sound = 'rwar')\n",
    "    a1 = Animal(type = 'duck', name = 'donald', sound = 'quack')\n",
    "    print(a0)\n",
    "    print(a1)\n",
    "\n",
    "    #generally a bad idea to put mutable data in a class (don't do the below)\n",
    "    print(a0.x)\n",
    "    a1.x[0] = 7\n",
    "    print(a0.x)\n",
    "if __name__ == '__main__': main()\n"
   ]
  },
  {
   "cell_type": "markdown",
   "metadata": {},
   "source": [
    "Inheritance\n",
    "\n",
    " Class inheritance is a fundamental part of object-oriented programming. This allows you to extend your classes by driving properties and methods from parent classes"
   ]
  },
  {
   "cell_type": "code",
   "execution_count": 19,
   "metadata": {},
   "outputs": [
    {
     "name": "stdout",
     "output_type": "stream",
     "text": [
      "The kitten is named \"fluffy\" and says \"rwar\".\n",
      "The duck is named \"donald\" and says \"quack\".\n",
      "fluffy will now kill all humans!\n"
     ]
    }
   ],
   "source": [
    "\n",
    "class Animal:\n",
    "    def __init__(self, **kwargs):\n",
    "        if 'type' in kwargs: self._type = kwargs['type']\n",
    "        if 'name' in kwargs: self._name = kwargs['name']\n",
    "        if 'sound' in kwargs: self._sound = kwargs['sound']\n",
    "\n",
    "    #Since this is a basd class that is going to inherited in order \n",
    "    #   to be used, we are no longer have default\n",
    "    #   Also, becuse it is a base clase we need to check that the input value actually \n",
    "    #   exists\n",
    "    def type(self, t = None):\n",
    "        if t: self._type = t\n",
    "        try: return self._type\n",
    "        except AttributeError: return None\n",
    "\n",
    "    def name(self, n = None):\n",
    "        if n: self._name = n\n",
    "        try: return self._name\n",
    "        except AttributeError: return None\n",
    "\n",
    "    def sound(self, s = None):\n",
    "        if s: self._sound = s\n",
    "        try: return self._sound\n",
    "        except AttributeError: return None\n",
    "\n",
    "class Duck(Animal):\n",
    "    def __init__(self, **kwargs):\n",
    "        self._type = 'duck'\n",
    "        #check to see if there is a type in the keyword arguemnt\n",
    "        #if so, then we delete that\n",
    "        #@super() calls parent class\n",
    "        if 'type' in kwargs: del kwargs['type']\n",
    "        super().__init__(**kwargs)\n",
    "\n",
    "class Kitten(Animal):\n",
    "    def __init__(self, **kwargs):\n",
    "        self._type = 'kitten'\n",
    "        if 'type' in kwargs: del kwargs['type']\n",
    "        super().__init__(**kwargs)\n",
    "\n",
    "    #special case - define a method that does not exist as one \n",
    "    #of the subclasses of Animal\n",
    "    def kill(self, s):\n",
    "        print(f'{self.name()} will now kill all {s}!')\n",
    "\n",
    "def print_animal(o):\n",
    "    if not isinstance(o, Animal):\n",
    "        raise TypeError('print_animal(): requires an Animal')\n",
    "    print(f'The {o.type()} is named \"{o.name()}\" and says \"{o.sound()}\".')\n",
    "\n",
    "def main():\n",
    "    a0 = Kitten(name = 'fluffy', sound = 'rwar')\n",
    "    a1 = Duck(name = 'donald', sound = 'quack')\n",
    "    print_animal(a0)\n",
    "    print_animal(a1)\n",
    "\n",
    "    #use the kill method\n",
    "    a0.kill('humans')\n",
    "\n",
    "    \n",
    "if __name__ == '__main__': main()\n"
   ]
  },
  {
   "cell_type": "code",
   "execution_count": 21,
   "metadata": {},
   "outputs": [
    {
     "name": "stdout",
     "output_type": "stream",
     "text": [
      ".dlroW ,olleH\n"
     ]
    }
   ],
   "source": [
    "#string.py\n",
    "\n",
    "#str - built in class\n",
    "class RevStr(str):\n",
    "    def __str__(self):\n",
    "        #return string backwards\n",
    "        return self[::-1]\n",
    "\n",
    "def main():\n",
    "    hello = RevStr('Hello, World.')\n",
    "    print(hello)\n",
    "\n",
    "if __name__ == '__main__': main()\n"
   ]
  },
  {
   "cell_type": "markdown",
   "metadata": {},
   "source": [
    " Iterator objects\n",
    "\n",
    "An iterator is a class that provides a sequence of items, generally used in a loop.\n",
    "\n",
    "An iterator is functionally identical to a generator function, a generator function is often easier to implement and will work just as well,"
   ]
  },
  {
   "cell_type": "code",
   "execution_count": 41,
   "metadata": {},
   "outputs": [
    {
     "name": "stdout",
     "output_type": "stream",
     "text": [
      "5 8 11 14 17 20 23 \n"
     ]
    }
   ],
   "source": [
    "#Iterator.py\n",
    "#incusive range\n",
    "\n",
    "class inclusive_range:\n",
    "    def __init__(self, *args):\n",
    "        numargs = len(args)\n",
    "        self._start = 0\n",
    "        self._step = 1\n",
    "        \n",
    "        if numargs < 1:\n",
    "            raise TypeError(f'expected at least 1 argument, got {numargs}')\n",
    "        elif numargs == 1:\n",
    "            self._stop = args[0]\n",
    "        elif numargs == 2:\n",
    "            (self._start, self._stop) = args\n",
    "        elif numargs == 3:\n",
    "            (self._start, self._stop, self._step) = args\n",
    "        else: raise TypeError(f'expected at most 3 arguments, got {numargs}')\n",
    "\n",
    "        #initilize the starting point of the iterator\n",
    "        self._next = self._start\n",
    "    \n",
    "    #special method: itentifies the ogject as an iterator object\n",
    "    def __iter__(self):\n",
    "        return self\n",
    "\n",
    "    def __next__(self):\n",
    "        if self._next > self._stop:\n",
    "            raise StopIteration\n",
    "        else:\n",
    "            _r = self._next\n",
    "            self._next += self._step\n",
    "            return _r\n",
    "\n",
    "def main():\n",
    "    #for n in inclusive_range(25):\n",
    "    #for n in inclusive_range(5,25):\n",
    "    for n in inclusive_range(5,25,3):\n",
    "        print(n, end=' ')\n",
    "    print()\n",
    "\n",
    "\n",
    "\n",
    "if __name__ == '__main__': main()\n"
   ]
  },
  {
   "cell_type": "code",
   "execution_count": 35,
   "metadata": {},
   "outputs": [
    {
     "name": "stdout",
     "output_type": "stream",
     "text": [
      "word s ds\n"
     ]
    }
   ],
   "source": [
    "x  = 'word'\n",
    "print(x,'s',\"ds\")"
   ]
  },
  {
   "cell_type": "markdown",
   "metadata": {},
   "source": [
    "Self\n",
    "\n",
    "In the following code, what will 'self' refer to:\n",
    "\n",
    " mycar\n"
   ]
  },
  {
   "cell_type": "code",
   "execution_count": 42,
   "metadata": {},
   "outputs": [
    {
     "name": "stdout",
     "output_type": "stream",
     "text": [
      "Ford\n"
     ]
    }
   ],
   "source": [
    "#QUIZ\n",
    "\n",
    "#In the following code, what will 'self' refer to:  mycar\n",
    "\n",
    "class Car:\n",
    "    model='Ford'\n",
    "    def print_model(self):\n",
    "        print(self.model)\n",
    "mycar=Car()\n",
    "mycar.print_model()\n",
    "\n",
    "\n",
    "#What is a typical body for this setter/getter method?\n"
   ]
  }
 ],
 "metadata": {
  "interpreter": {
   "hash": "eabb86107e590cff15b9e52f18202900a39f367bd87c739e30f1c47d4db03be8"
  },
  "kernelspec": {
   "display_name": "Python 3.8.3 ('base')",
   "language": "python",
   "name": "python3"
  },
  "language_info": {
   "codemirror_mode": {
    "name": "ipython",
    "version": 3
   },
   "file_extension": ".py",
   "mimetype": "text/x-python",
   "name": "python",
   "nbconvert_exporter": "python",
   "pygments_lexer": "ipython3",
   "version": "3.8.3"
  },
  "orig_nbformat": 4
 },
 "nbformat": 4,
 "nbformat_minor": 2
}
