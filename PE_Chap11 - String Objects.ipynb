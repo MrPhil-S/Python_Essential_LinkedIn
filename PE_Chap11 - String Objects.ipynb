{
 "cells": [
  {
   "cell_type": "markdown",
   "metadata": {},
   "source": [
    "Strings are first class objectgs in Python"
   ]
  },
  {
   "cell_type": "code",
   "execution_count": 26,
   "metadata": {},
   "outputs": [
    {
     "name": "stdout",
     "output_type": "stream",
     "text": [
      "Hello, World.\n",
      "HELLO, WORLD.\n",
      "Hello, world.\n",
      "Hello, World.\n",
      "hELLO, wORLD.\n",
      "Hello, World. 294\n",
      "Hello, World. 420\n"
     ]
    }
   ],
   "source": [
    "\n",
    "print('Hello, World.')\n",
    "print('Hello, World.'.upper())\n",
    "print('Hello, World.'.capitalize())\n",
    "print('Hello, World.'.title())\n",
    "print('Hello, World.'.swapcase())\n",
    "\n",
    "#casefold is more aggresive than lower() - also works with unicode \n",
    "print('Hello, World.'.casefold())\n",
    "\n",
    "# string formatting\n",
    "print('Hello, World. {}'.format(42 * 7))\n",
    "\n",
    "s = 'Hello, World. {}'\n",
    "print(s.format(42 * 10))\n"
   ]
  },
  {
   "cell_type": "code",
   "execution_count": 14,
   "metadata": {},
   "outputs": [
    {
     "name": "stdout",
     "output_type": "stream",
     "text": [
      "\n",
      "    Hello   \n",
      "    WOrld\n",
      "    \n",
      "    294\n",
      "    \n",
      "\n",
      "    Hello   \n",
      "    WOrld\n",
      "     \n",
      "    294\n",
      "    \n"
     ]
    }
   ],
   "source": [
    "print(\"\"\"\n",
    "    Hello   \n",
    "    WOrld\n",
    "    \n",
    "    {}\n",
    "    \"\"\".format(42 * 7))\n",
    "\n",
    "\n",
    "print('''\n",
    "    Hello   \n",
    "    WOrld\n",
    "     \n",
    "    {}\n",
    "    '''.format(42 * 7))"
   ]
  },
  {
   "cell_type": "markdown",
   "metadata": {},
   "source": [
    "Subclass strings"
   ]
  },
  {
   "cell_type": "code",
   "execution_count": 24,
   "metadata": {},
   "outputs": [
    {
     "name": "stdout",
     "output_type": "stream",
     "text": [
      "dlroW ,olleH\n"
     ]
    }
   ],
   "source": [
    "# str is the built-in string class in Python\n",
    "class MyString(str):\n",
    "    def __str__(self):\n",
    "        return self[::-1]\n",
    "\n",
    "s = MyString('Hello, World')\n",
    "print(s)"
   ]
  },
  {
   "cell_type": "markdown",
   "metadata": {},
   "source": [
    "String methods"
   ]
  },
  {
   "cell_type": "code",
   "execution_count": 25,
   "metadata": {},
   "outputs": [
    {
     "name": "stdout",
     "output_type": "stream",
     "text": [
      "Hello, World.\n"
     ]
    }
   ],
   "source": [
    "print('Hello, World.')"
   ]
  },
  {
   "cell_type": "markdown",
   "metadata": {},
   "source": [
    "Each string is it's own object"
   ]
  },
  {
   "cell_type": "code",
   "execution_count": 28,
   "metadata": {},
   "outputs": [
    {
     "name": "stdout",
     "output_type": "stream",
     "text": [
      "2479227553392\n",
      "2479227485616\n"
     ]
    }
   ],
   "source": [
    "s1 = 'Hello, World.'\n",
    "s2 = s1.upper()\n",
    "\n",
    "print(id(s1))\n",
    "print(id(s2))"
   ]
  },
  {
   "cell_type": "code",
   "execution_count": 30,
   "metadata": {},
   "outputs": [
    {
     "name": "stdout",
     "output_type": "stream",
     "text": [
      "Hello, World, My name is Bob\n"
     ]
    }
   ],
   "source": [
    "s1 = 'Hello, World'\n",
    "s2 = 'My name is Bob'\n",
    "\n",
    "print(s1 + ', ' + s2)"
   ]
  },
  {
   "cell_type": "code",
   "execution_count": 32,
   "metadata": {},
   "outputs": [
    {
     "name": "stdout",
     "output_type": "stream",
     "text": [
      "Hello, World My name is Bob\n"
     ]
    }
   ],
   "source": [
    "print('Hello, World'  ' My name is Bob')"
   ]
  },
  {
   "cell_type": "markdown",
   "metadata": {},
   "source": [
    "Formatting Strings"
   ]
  },
  {
   "cell_type": "code",
   "execution_count": 48,
   "metadata": {},
   "outputs": [
    {
     "name": "stdout",
     "output_type": "stream",
     "text": [
      "The number is 42\n",
      "The number is 42 and 77\n",
      "The number is 42 and 77 77\n",
      "The number is 77 and 42\n"
     ]
    }
   ],
   "source": [
    "#string method used to format strings\n",
    "\n",
    "#the {} is a placeholder for:\n",
    "x = 42\n",
    "y = 77\n",
    "print('The number is {}'.format(x))\n",
    "print('The number is {} and {}'.format(x,y))\n",
    "print('The number is {0} and {1} {1}'.format(x,y))\n",
    "print('The number is {aa} and {bb}'.format(bb = x ,aa = y))"
   ]
  },
  {
   "cell_type": "markdown",
   "metadata": {},
   "source": [
    "Formatting instructions (:)"
   ]
  },
  {
   "cell_type": "code",
   "execution_count": 57,
   "metadata": {},
   "outputs": [
    {
     "name": "stdout",
     "output_type": "stream",
     "text": [
      "The number is 42    and    77\n",
      "The number is 42000 and 00077\n",
      "The number is 42000 and +0077\n"
     ]
    }
   ],
   "source": [
    "#left or right justify by # of spaces\n",
    "print('The number is {0:<5} and {1:>5}'.format(x,y))\n",
    "\n",
    "#can add a leading 0\n",
    "print('The number is {0:0<5} and {1:>05}'.format(x,y))\n",
    "\n",
    "#add a sign +/-\n",
    "print('The number is {0:0<5} and {1:+05}'.format(x,y))"
   ]
  },
  {
   "cell_type": "markdown",
   "metadata": {},
   "source": [
    "Format with a comma using (:) and a comma"
   ]
  },
  {
   "cell_type": "code",
   "execution_count": 72,
   "metadata": {},
   "outputs": [
    {
     "name": "stdout",
     "output_type": "stream",
     "text": [
      "the number is 3,138,786\n",
      "the number is 3.138.786\n",
      "the number is 3138786.000000\n",
      "the number is 3138786.00\n",
      "the number is 13762342\n"
     ]
    }
   ],
   "source": [
    "x = 42 * 74733\n",
    "print('the number is {:,}'.format(x))\n",
    "\n",
    "#european? - use the replace method\n",
    "print('the number is {:,}'.format(x).replace(',','.'))\n",
    "\n",
    "#Specify a fixed number of decimal places\n",
    "print('the number is {:f}'.format(x))\n",
    "print('the number is {:.2f}'.format(x))\n",
    "\n",
    "#specify different basis\n",
    "##Hexadecimal\n",
    "print('the number is {:o}'.format(x))"
   ]
  },
  {
   "cell_type": "markdown",
   "metadata": {},
   "source": [
    "Can use f strings as of Python 3.6"
   ]
  },
  {
   "cell_type": "code",
   "execution_count": 75,
   "metadata": {},
   "outputs": [
    {
     "name": "stdout",
     "output_type": "stream",
     "text": [
      "the number is 3,138,786\n",
      "the number is 3.138.786\n",
      "the default decimals are 3138786.000000\n",
      "Specify decimals with .#f number is 3138786.00\n",
      "the number is 13762342\n"
     ]
    }
   ],
   "source": [
    "x = 42 * 74733\n",
    "print(f'the number is {x:,}')\n",
    "\n",
    "#european? - use the replace method\n",
    "print(f'the number is {x:,}'.replace(',','.'))\n",
    "\n",
    "#Specify a fixed number of decimal places\n",
    "print(f'the default decimals are {x:f}')\n",
    "print(f'Specify decimals with .#f number is {x:.2f}')\n",
    "\n",
    "#specify different basis\n",
    "##Hexadecimal\n",
    "print(f'the number is {x:o}')"
   ]
  },
  {
   "cell_type": "markdown",
   "metadata": {},
   "source": [
    "Split and join strings "
   ]
  },
  {
   "cell_type": "code",
   "execution_count": 82,
   "metadata": {},
   "outputs": [
    {
     "name": "stdout",
     "output_type": "stream",
     "text": [
      "This is a long string with a bunch of words in it.\n",
      "['This', 'is', 'a', 'long', 'string', 'with', 'a', 'bunch', 'of', 'words', 'in', 'it.']\n",
      "['This is a long s', 'ring wi', 'h a bunch of words in i', '.']\n"
     ]
    }
   ],
   "source": [
    "s = 'This is a long string with a bunch of words in it.'\n",
    "print(s)\n",
    "#Create a list with each word, eliminating all spaced\n",
    "print(s.split())\n",
    "print(s.split('t'))"
   ]
  },
  {
   "cell_type": "code",
   "execution_count": 84,
   "metadata": {},
   "outputs": [
    {
     "name": "stdout",
     "output_type": "stream",
     "text": [
      "This:is:a:long:string:with:a:bunch:of:words:in:it.\n",
      "This:is:a:long:string:with:a:bunch:of:words:in:it.\n"
     ]
    }
   ],
   "source": [
    "l = s.split()\n",
    "#pass the list \"l\" into the join method\n",
    "s2 = ':'.join(l)\n",
    "print(s2)\n",
    "\n",
    "print(s.replace(' ',':'))"
   ]
  },
  {
   "cell_type": "code",
   "execution_count": 87,
   "metadata": {},
   "outputs": [
    {
     "name": "stdout",
     "output_type": "stream",
     "text": [
      "Test\n",
      "n no\n"
     ]
    }
   ],
   "source": []
  },
  {
   "cell_type": "code",
   "execution_count": null,
   "metadata": {},
   "outputs": [],
   "source": []
  }
 ],
 "metadata": {
  "interpreter": {
   "hash": "eabb86107e590cff15b9e52f18202900a39f367bd87c739e30f1c47d4db03be8"
  },
  "kernelspec": {
   "display_name": "Python 3.8.3 ('base')",
   "language": "python",
   "name": "python3"
  },
  "language_info": {
   "codemirror_mode": {
    "name": "ipython",
    "version": 3
   },
   "file_extension": ".py",
   "mimetype": "text/x-python",
   "name": "python",
   "nbconvert_exporter": "python",
   "pygments_lexer": "ipython3",
   "version": "3.8.3"
  },
  "orig_nbformat": 4
 },
 "nbformat": 4,
 "nbformat_minor": 2
}
