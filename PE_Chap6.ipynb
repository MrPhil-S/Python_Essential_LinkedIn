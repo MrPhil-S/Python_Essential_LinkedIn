{
 "cells": [
  {
   "cell_type": "markdown",
   "metadata": {},
   "source": [
    "While loop"
   ]
  },
  {
   "cell_type": "code",
   "execution_count": 11,
   "metadata": {},
   "outputs": [
    {
     "name": "stdout",
     "output_type": "stream",
     "text": [
      "nope, sd is incorrect\n",
      "nope, swordfish is incorrect\n",
      "Correct, you guessed swordfish\n"
     ]
    }
   ],
   "source": [
    "\n",
    "secret = 'swordfish'\n",
    "pw = ''\n",
    "\n",
    "while pw != secret:\n",
    "    pw = input(\"What's the secret word? \")\n",
    "print(f'Correct, you guessed {pw}')\n"
   ]
  },
  {
   "cell_type": "markdown",
   "metadata": {},
   "source": [
    "For loop - used more often than while loop"
   ]
  },
  {
   "cell_type": "code",
   "execution_count": 12,
   "metadata": {},
   "outputs": [
    {
     "name": "stdout",
     "output_type": "stream",
     "text": [
      "bear\n",
      "bunny\n",
      "dog\n",
      "cat\n",
      "velociraptor\n"
     ]
    }
   ],
   "source": [
    "#using a tuple ()\n",
    "animals = ( 'bear', 'bunny', 'dog', 'cat', 'velociraptor' )\n",
    "\n",
    "for pet in animals:\n",
    "    print(pet)\n",
    "\n"
   ]
  },
  {
   "cell_type": "code",
   "execution_count": 14,
   "metadata": {},
   "outputs": [
    {
     "name": "stdout",
     "output_type": "stream",
     "text": [
      "red\n",
      "2\n",
      "blue\n",
      "2\n",
      "pink\n",
      "2\n",
      "green\n",
      "2\n"
     ]
    }
   ],
   "source": [
    "colors = ('red', 'blue', 'pink', 'green')\n",
    "\n",
    "for choice in colors:\n",
    "    print(choice)\n",
    "   "
   ]
  },
  {
   "cell_type": "code",
   "execution_count": 16,
   "metadata": {},
   "outputs": [
    {
     "name": "stdout",
     "output_type": "stream",
     "text": [
      "0\n",
      "1\n",
      "2\n",
      "3\n",
      "4\n"
     ]
    }
   ],
   "source": [
    "for i in range(5):\n",
    "    print(i)"
   ]
  },
  {
   "cell_type": "markdown",
   "metadata": {},
   "source": [
    "Additional loop controls (for both while and for)\n",
    "-continue* - shortcuts loop and send back to top\n",
    "-break* - breaks out of loop end\n",
    "-else* runs when the while condition is not met (not common in other languages)"
   ]
  },
  {
   "cell_type": "code",
   "execution_count": 25,
   "metadata": {},
   "outputs": [
    {
     "name": "stdout",
     "output_type": "stream",
     "text": [
      "Failure after 5 attempts, calling FBI!!\n"
     ]
    }
   ],
   "source": [
    "\n",
    "secret = 'swordfish'\n",
    "pw = ''\n",
    "auth = False\n",
    "count = 0\n",
    "max_attempt = 5\n",
    "\n",
    "while pw != secret:\n",
    "    count += 1  #starts with 1 for the first count\n",
    "    if count > max_attempt: break  #<<break*\n",
    "  #  if count == 3: continue\n",
    "    pw = input(f\"{count}: What's the word?\")\n",
    "else:   #<<else*\n",
    "    auth = True\n",
    "\n",
    "#turnary expression\n",
    "print(\"Authorized\" if auth else f\"Failure after {count-1} attempts, calling FBI!!\")"
   ]
  },
  {
   "cell_type": "code",
   "execution_count": 32,
   "metadata": {},
   "outputs": [
    {
     "name": "stdout",
     "output_type": "stream",
     "text": [
      "bear\n",
      "bunny\n",
      "cat\n"
     ]
    }
   ],
   "source": [
    "animals = ( 'bear', 'bunny', 'dog', 'cat', 'velociraptor' )\n",
    "\n",
    "for pet in animals:\n",
    "    if pet == 'dog': continue\n",
    "    if pet == 'velociraptor': break\n",
    "    print(pet)\n",
    "else:\n",
    "    print('that''s all folks')  #<<Will not run when the break on line 5 is there\n",
    "\n"
   ]
  },
  {
   "cell_type": "code",
   "execution_count": null,
   "metadata": {},
   "outputs": [],
   "source": []
  }
 ],
 "metadata": {
  "interpreter": {
   "hash": "eabb86107e590cff15b9e52f18202900a39f367bd87c739e30f1c47d4db03be8"
  },
  "kernelspec": {
   "display_name": "Python 3.8.3 ('base')",
   "language": "python",
   "name": "python3"
  },
  "language_info": {
   "codemirror_mode": {
    "name": "ipython",
    "version": 3
   },
   "file_extension": ".py",
   "mimetype": "text/x-python",
   "name": "python",
   "nbconvert_exporter": "python",
   "pygments_lexer": "ipython3",
   "version": "3.8.3"
  },
  "orig_nbformat": 4
 },
 "nbformat": 4,
 "nbformat_minor": 2
}
