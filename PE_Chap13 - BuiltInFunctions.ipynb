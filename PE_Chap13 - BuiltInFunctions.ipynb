{
 "cells": [
  {
   "cell_type": "code",
   "execution_count": 8,
   "metadata": {},
   "outputs": [
    {
     "name": "stdout",
     "output_type": "stream",
     "text": [
      "x is <class 'int'>\n",
      "x is 47\n",
      "y is <class 'complex'>\n",
      "y is (47+3j)\n"
     ]
    }
   ],
   "source": [
    "#types.py\n",
    "x = '-47'\n",
    "#y = int(x)\n",
    "#y = float(x)\n",
    "x = 47\n",
    "#y = abs(x)\n",
    "#return the quotent and remainder in tuple\n",
    "#y = divmod(x,3)\n",
    "y = complex(x,3)\n",
    "\n",
    "\n",
    "print(f'x is {type(x)}')\n",
    "print(f'x is {x}')\n",
    "print(f'y is {type(y)}')\n",
    "print(f'y is {y}')\n"
   ]
  },
  {
   "cell_type": "markdown",
   "metadata": {},
   "source": [
    "String functions"
   ]
  },
  {
   "cell_type": "code",
   "execution_count": null,
   "metadata": {},
   "outputs": [],
   "source": [
    "s = 'Hello, World'\n",
    "#print the string representation\n",
    "print(repr(s))"
   ]
  },
  {
   "cell_type": "markdown",
   "metadata": {},
   "source": [
    "Container functions"
   ]
  },
  {
   "cell_type": "code",
   "execution_count": 17,
   "metadata": {},
   "outputs": [
    {
     "name": "stdout",
     "output_type": "stream",
     "text": [
      "(1, 2, 3, 4, 5, 6)\n",
      "(1, 2, 3, 4, 5, 6)\n",
      "6\n",
      "<reversed object at 0x0000019DD2293D90>\n",
      "1\n",
      "2\n",
      "3\n",
      "4\n",
      "5\n",
      "6\n",
      "[6, 5, 4, 3, 2, 1]\n"
     ]
    }
   ],
   "source": [
    "#tuple\n",
    "x = (1, 2, 3, 4,5 , 6)\n",
    "\n",
    "y = x\n",
    "print(y)\n",
    "print(x)\n",
    "\n",
    "print(len(x))\n",
    "print(reversed(x))\n",
    "\n",
    "\n",
    "for i in y: print(i)\n",
    "\n",
    "print(list(reversed(x)))\n",
    "\n",
    "\n"
   ]
  },
  {
   "cell_type": "code",
   "execution_count": 20,
   "metadata": {},
   "outputs": [
    {
     "name": "stdout",
     "output_type": "stream",
     "text": [
      "1 - 4\n",
      "2 - 22\n",
      "3 - 12\n",
      "4 - 21\n",
      "5 - 5\n",
      "6 - 6\n"
     ]
    }
   ],
   "source": [
    "x = (1, 2, 3, 4,5 , 6)\n",
    "y = (4, 22, 12, 21,5 , 6)\n",
    "z = zip(x,y)\n",
    "for a,b in z: print(f'{a} - {b}')"
   ]
  },
  {
   "cell_type": "code",
   "execution_count": 22,
   "metadata": {},
   "outputs": [
    {
     "name": "stdout",
     "output_type": "stream",
     "text": [
      "0 cat\n",
      "1 dog\n",
      "2 rabbit\n"
     ]
    }
   ],
   "source": [
    "#enumerator\n",
    "x = ('cat', 'dog','rabbit' )\n",
    "for i, v in enumerate(x): print(f'{i} {v}')\n"
   ]
  },
  {
   "cell_type": "markdown",
   "metadata": {},
   "source": [
    "Object and class funtions"
   ]
  },
  {
   "cell_type": "code",
   "execution_count": 23,
   "metadata": {},
   "outputs": [
    {
     "name": "stdout",
     "output_type": "stream",
     "text": [
      "42\n",
      "<class 'int'>\n"
     ]
    }
   ],
   "source": [
    "x = 42\n",
    "y = type(x)\n",
    "print(x)\n",
    "print(y)\n",
    "#class and type are the same in python\n"
   ]
  },
  {
   "cell_type": "code",
   "execution_count": 24,
   "metadata": {},
   "outputs": [
    {
     "name": "stdout",
     "output_type": "stream",
     "text": [
      "42\n",
      "True\n"
     ]
    }
   ],
   "source": [
    "x = 42\n",
    "y = isinstance(x,int)\n",
    "print(x)\n",
    "print(y)\n",
    "#class and type are the same in python\n"
   ]
  },
  {
   "cell_type": "code",
   "execution_count": null,
   "metadata": {},
   "outputs": [],
   "source": []
  }
 ],
 "metadata": {
  "interpreter": {
   "hash": "eabb86107e590cff15b9e52f18202900a39f367bd87c739e30f1c47d4db03be8"
  },
  "kernelspec": {
   "display_name": "Python 3.8.3 ('base')",
   "language": "python",
   "name": "python3"
  },
  "language_info": {
   "codemirror_mode": {
    "name": "ipython",
    "version": 3
   },
   "file_extension": ".py",
   "mimetype": "text/x-python",
   "name": "python",
   "nbconvert_exporter": "python",
   "pygments_lexer": "ipython3",
   "version": "3.8.3"
  },
  "orig_nbformat": 4
 },
 "nbformat": 4,
 "nbformat_minor": 2
}
