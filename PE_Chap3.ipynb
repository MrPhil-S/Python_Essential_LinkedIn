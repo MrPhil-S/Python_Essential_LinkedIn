{
 "cells": [
  {
   "cell_type": "markdown",
   "metadata": {},
   "source": [
    "## Essential Training"
   ]
  },
  {
   "cell_type": "markdown",
   "metadata": {},
   "source": [
    "chap 3"
   ]
  },
  {
   "cell_type": "markdown",
   "metadata": {},
   "source": [
    "square brackets - creates a list"
   ]
  },
  {
   "cell_type": "code",
   "execution_count": 12,
   "metadata": {},
   "outputs": [
    {
     "name": "stdout",
     "output_type": "stream",
     "text": [
      "i is 1\n",
      "i is 2\n",
      "i is 3\n",
      "i is 4\n",
      "i is 5\n"
     ]
    }
   ],
   "source": [
    "x = [ 1, 2, 3, 4, 5, ]\n",
    "for i in x:\n",
    "    print('i is {}'.format(i))"
   ]
  },
  {
   "cell_type": "markdown",
   "metadata": {},
   "source": [
    "list is mutable (can be changed)"
   ]
  },
  {
   "cell_type": "code",
   "execution_count": 13,
   "metadata": {},
   "outputs": [
    {
     "name": "stdout",
     "output_type": "stream",
     "text": [
      "i is 1\n",
      "i is 2\n",
      "i is 100\n",
      "i is 4\n",
      "i is 5\n"
     ]
    }
   ],
   "source": [
    "x = [ 1, 2, 3, 4, 5 ]\n",
    "x[2] = 100\n",
    "for i in x:\n",
    "    print('i is {}'.format(i))"
   ]
  },
  {
   "cell_type": "markdown",
   "metadata": {},
   "source": [
    "tuple uses parenthises and is immutable"
   ]
  },
  {
   "cell_type": "code",
   "execution_count": null,
   "metadata": {},
   "outputs": [
    {
     "ename": "TypeError",
     "evalue": "'tuple' object does not support item assignment",
     "output_type": "error",
     "traceback": [
      "\u001b[1;31m---------------------------------------------------------------------------\u001b[0m",
      "\u001b[1;31mTypeError\u001b[0m                                 Traceback (most recent call last)",
      "\u001b[1;32m<ipython-input-5-fddeb2c94176>\u001b[0m in \u001b[0;36m<module>\u001b[1;34m\u001b[0m\n\u001b[0;32m      1\u001b[0m \u001b[0mx\u001b[0m \u001b[1;33m=\u001b[0m \u001b[1;33m(\u001b[0m \u001b[1;36m1\u001b[0m\u001b[1;33m,\u001b[0m \u001b[1;36m2\u001b[0m\u001b[1;33m,\u001b[0m \u001b[1;36m3\u001b[0m\u001b[1;33m,\u001b[0m \u001b[1;36m4\u001b[0m\u001b[1;33m,\u001b[0m \u001b[1;36m5\u001b[0m \u001b[1;33m)\u001b[0m\u001b[1;33m\u001b[0m\u001b[1;33m\u001b[0m\u001b[0m\n\u001b[1;32m----> 2\u001b[1;33m \u001b[0mx\u001b[0m\u001b[1;33m[\u001b[0m\u001b[1;36m2\u001b[0m\u001b[1;33m]\u001b[0m \u001b[1;33m=\u001b[0m \u001b[1;36m100\u001b[0m\u001b[1;33m\u001b[0m\u001b[1;33m\u001b[0m\u001b[0m\n\u001b[0m\u001b[0;32m      3\u001b[0m \u001b[1;32mfor\u001b[0m \u001b[0mi\u001b[0m \u001b[1;32min\u001b[0m \u001b[0mx\u001b[0m\u001b[1;33m:\u001b[0m\u001b[1;33m\u001b[0m\u001b[1;33m\u001b[0m\u001b[0m\n\u001b[0;32m      4\u001b[0m     \u001b[0mprint\u001b[0m\u001b[1;33m(\u001b[0m\u001b[1;34m'i is {}'\u001b[0m\u001b[1;33m.\u001b[0m\u001b[0mformat\u001b[0m\u001b[1;33m(\u001b[0m\u001b[0mi\u001b[0m\u001b[1;33m)\u001b[0m\u001b[1;33m)\u001b[0m\u001b[1;33m\u001b[0m\u001b[1;33m\u001b[0m\u001b[0m\n",
      "\u001b[1;31mTypeError\u001b[0m: 'tuple' object does not support item assignment"
     ]
    }
   ],
   "source": [
    "x = ( 1, 2, 3, 4, 5 )\n",
    "x[2] = 100\n",
    "for i in x:\n",
    "    print('i is {}'.format(i))"
   ]
  },
  {
   "cell_type": "markdown",
   "metadata": {},
   "source": [
    "using range"
   ]
  },
  {
   "cell_type": "code",
   "execution_count": null,
   "metadata": {},
   "outputs": [
    {
     "name": "stdout",
     "output_type": "stream",
     "text": [
      "i is 0\n",
      "i is 1\n",
      "i is 2\n",
      "i is 3\n",
      "i is 4\n"
     ]
    }
   ],
   "source": [
    "x = range( 5,10 )\n",
    "for i in x:\n",
    "    print('i is {}'.format(i))"
   ]
  },
  {
   "cell_type": "markdown",
   "metadata": {},
   "source": [
    "Dictonary - searchable sequence of key value pairs. \n",
    "Just the keys"
   ]
  },
  {
   "cell_type": "code",
   "execution_count": 28,
   "metadata": {},
   "outputs": [
    {
     "name": "stdout",
     "output_type": "stream",
     "text": [
      "i is one\n",
      "i is two\n",
      "i is three\n",
      "i is four\n",
      "i is five\n"
     ]
    }
   ],
   "source": [
    "x = {'one': 1, 'two': 2, 'three': 3, 'four': 4, 'five': 5 }\n",
    "for i in x:\n",
    "    print (f'i is {i}')"
   ]
  },
  {
   "cell_type": "markdown",
   "metadata": {},
   "source": [
    "Dictonary - searchable sequence of key value pairs. \n",
    "Keys and values"
   ]
  },
  {
   "cell_type": "code",
   "execution_count": 35,
   "metadata": {},
   "outputs": [
    {
     "name": "stdout",
     "output_type": "stream",
     "text": [
      "key is one, value is 1\n",
      "key is two, value is 2\n",
      "key is three, value is 3\n",
      "key is four, value is 4\n",
      "key is five, value is 5\n"
     ]
    }
   ],
   "source": [
    "x = {'one': 1, 'two': 2, 'three': 3, 'four': 4, 'five': 5 }\n",
    "for k, v in x.items():\n",
    "    print (f'key is {k}, value is {v}')\n"
   ]
  },
  {
   "cell_type": "code",
   "execution_count": 5,
   "metadata": {},
   "outputs": [
    {
     "name": "stdout",
     "output_type": "stream",
     "text": [
      "key is one, value is 1\n",
      "key is two, value is 2\n",
      "key is three, value is 32\n",
      "key is four, value is 4\n",
      "key is five, value is 5\n"
     ]
    }
   ],
   "source": [
    "x = {'one': 1, 'two': 2, 'three': 3, 'four': 4, 'five': 5 }\n",
    "x['three'] = 32\n",
    "for k, v in x.items():\n",
    "    print (f'key is {k}, value is {v}')\n"
   ]
  },
  {
   "cell_type": "markdown",
   "metadata": {},
   "source": [
    "IDs are unique for each object literal value"
   ]
  },
  {
   "cell_type": "code",
   "execution_count": 13,
   "metadata": {},
   "outputs": [
    {
     "name": "stdout",
     "output_type": "stream",
     "text": [
      "<class 'tuple'>\n",
      "<class 'float'>\n",
      "2408931670432\n",
      "2408931526512\n",
      "no\n",
      "140717557298976\n",
      "140717557298976\n",
      "yes\n"
     ]
    }
   ],
   "source": [
    "x = (1,'two', 3.0, [4, 'four'],5)\n",
    "y = (1,'two', 3.0, [4, 'four'],5)\n",
    "z = ('x', 1, 3.0, [4, 'four'],5)\n",
    "\n",
    "print(type(x))\n",
    "print(type(x[2]))\n",
    "\n",
    "#id returns unique value for each object (even they have the same values)\n",
    "print(id(x))\n",
    "print(id(y))\n",
    "\n",
    "if x is y:\n",
    "    print('yes')\n",
    "else:\n",
    "    print('no')\n",
    "\n",
    "#IDs are the same for each literal value\n",
    "print(id(x[0]))\n",
    "print(id(z[1]))\n",
    "\n",
    "if x[0] is y[0]:\n",
    "    print('yes')\n",
    "else:\n",
    "    print('no')"
   ]
  },
  {
   "cell_type": "markdown",
   "metadata": {},
   "source": [
    "Check type of an object, cannot use \n",
    "if x = 'tuple'....."
   ]
  },
  {
   "cell_type": "code",
   "execution_count": 14,
   "metadata": {},
   "outputs": [
    {
     "name": "stdout",
     "output_type": "stream",
     "text": [
      "is a tuple\n"
     ]
    }
   ],
   "source": [
    "if isinstance(x,tuple):\n",
    "    print('is a tuple')\n",
    "else:\n",
    "    print('not a tuple')"
   ]
  },
  {
   "cell_type": "code",
   "execution_count": null,
   "metadata": {},
   "outputs": [],
   "source": []
  }
 ],
 "metadata": {
  "interpreter": {
   "hash": "eabb86107e590cff15b9e52f18202900a39f367bd87c739e30f1c47d4db03be8"
  },
  "kernelspec": {
   "display_name": "Python 3.8.3 ('base')",
   "language": "python",
   "name": "python3"
  },
  "language_info": {
   "codemirror_mode": {
    "name": "ipython",
    "version": 3
   },
   "file_extension": ".py",
   "mimetype": "text/x-python",
   "name": "python",
   "nbconvert_exporter": "python",
   "pygments_lexer": "ipython3",
   "version": "3.8.3"
  },
  "orig_nbformat": 4
 },
 "nbformat": 4,
 "nbformat_minor": 2
}
