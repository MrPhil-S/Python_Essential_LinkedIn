{
 "cells": [
  {
   "cell_type": "code",
   "execution_count": 4,
   "metadata": {},
   "outputs": [
    {
     "name": "stdout",
     "output_type": "stream",
     "text": [
      "1.6666666666666667\n",
      "1\n",
      "\n",
      "2\n"
     ]
    }
   ],
   "source": [
    "x = 5\n",
    "y = 3\n",
    "\n",
    "#returns float\n",
    "print(x / y)\n",
    "\n",
    "#integer divison\n",
    "print(x // y)\n",
    "\n",
    "#remainder \"modulus\"\n",
    "print(x % y)"
   ]
  },
  {
   "cell_type": "markdown",
   "metadata": {},
   "source": [
    "Unary operators\n",
    "NOTE: the +a does not do anything - does not switch to positive"
   ]
  },
  {
   "cell_type": "code",
   "execution_count": 9,
   "metadata": {},
   "outputs": [
    {
     "name": "stdout",
     "output_type": "stream",
     "text": [
      "-2\n",
      "-1\n"
     ]
    }
   ],
   "source": [
    "a = 2\n",
    "a = -a\n",
    "\n",
    "print(a)\n",
    "\n",
    "b = -1\n",
    "b = +b\n",
    "\n",
    "print(b)"
   ]
  },
  {
   "cell_type": "markdown",
   "metadata": {},
   "source": [
    "Bitwise"
   ]
  },
  {
   "cell_type": "code",
   "execution_count": 10,
   "metadata": {},
   "outputs": [
    {
     "name": "stdout",
     "output_type": "stream",
     "text": [
      "(hex) x is 0a, y is 02, z is 02\n",
      "(bin) x is 00001010, y is 00000010, z is 00000010\n"
     ]
    }
   ],
   "source": [
    "#!/usr/bin/env python3\n",
    "# Copyright 2009-2017 BHG http://bw.org/\n",
    "\n",
    "#hexidecimal literal numbers\n",
    "x = 0x0a\n",
    "y = 0x02\n",
    "z = x & y\n",
    "\n",
    "print(f'(hex) x is {x:02x}, y is {y:02x}, z is {z:02x}')\n",
    "print(f'(bin) x is {x:08b}, y is {y:08b}, z is {z:08b}')\n"
   ]
  },
  {
   "cell_type": "code",
   "execution_count": 18,
   "metadata": {},
   "outputs": [
    {
     "name": "stdout",
     "output_type": "stream",
     "text": [
      "expression is true\n"
     ]
    }
   ],
   "source": [
    "\n",
    "a = True\n",
    "b = False\n",
    "x = ( 'bear', 'bunny', 'tree', 'sky', 'rain' )\n",
    "y = 'bear'\n",
    "\n",
    "#if a and b:\n",
    "#if a or b:\n",
    "#if not b:\n",
    "#if y in x:\n",
    "#if y is x[0]:  #true\n",
    "if y is not x[1]: \n",
    "    print('expression is true')\n",
    "else:\n",
    "    print('expression is false')\n"
   ]
  },
  {
   "cell_type": "code",
   "execution_count": null,
   "metadata": {},
   "outputs": [],
   "source": []
  }
 ],
 "metadata": {
  "interpreter": {
   "hash": "eabb86107e590cff15b9e52f18202900a39f367bd87c739e30f1c47d4db03be8"
  },
  "kernelspec": {
   "display_name": "Python 3.8.3 ('base')",
   "language": "python",
   "name": "python3"
  },
  "language_info": {
   "codemirror_mode": {
    "name": "ipython",
    "version": 3
   },
   "file_extension": ".py",
   "mimetype": "text/x-python",
   "name": "python",
   "nbconvert_exporter": "python",
   "pygments_lexer": "ipython3",
   "version": "3.8.3"
  },
  "orig_nbformat": 4
 },
 "nbformat": 4,
 "nbformat_minor": 2
}
